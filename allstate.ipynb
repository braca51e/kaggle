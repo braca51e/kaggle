{
 "cells": [
  {
   "cell_type": "code",
   "execution_count": 11,
   "metadata": {
    "collapsed": false
   },
   "outputs": [
    {
     "name": "stdout",
     "output_type": "stream",
     "text": [
      "Finish\n"
     ]
    }
   ],
   "source": [
    "import string\n",
    "import pandas as pd\n",
    "from pandas import Series,DataFrame\n",
    "\n",
    "# numpy, matplotlib, seaborn\n",
    "import numpy as np\n",
    "import matplotlib.pyplot as plt\n",
    "\n",
    "allstate_train_df = pd.read_csv(\"../data/train_alls.csv\")\n",
    "allstate_test_df    = pd.read_csv(\"../data/test_alls.csv\")\n",
    "\n",
    "rem_cat = []\n",
    "to_replace = list(string.ascii_uppercase)\n",
    "value = range(1,len(list(string.ascii_uppercase))+1)\n",
    "\n",
    "allstate_train_df = allstate_train_df.replace(to_replace=to_replace, value=value)\n",
    "allstate_test_df  = allstate_test_df.replace(to_replace=to_replace, value=value)\n",
    "\n",
    "c = 26\n",
    "for i in to_replace:\n",
    "    for j in to_replace:\n",
    "        allstate_train_df = allstate_train_df.replace(to_replace=i+j, value=c)\n",
    "        allstate_test_df  = allstate_test_df.replace(to_replace=i+j, value=c)\n",
    "        c += 1\n",
    "        \n",
    "allstate_train_df.to_csv('train_alls_3.csv', index=False)\n",
    "allstate_test_df.to_csv('test_alls_3.csv', index=False)\n",
    "\n",
    "print \"Finish\""
   ]
  },
  {
   "cell_type": "code",
   "execution_count": null,
   "metadata": {
    "collapsed": true
   },
   "outputs": [],
   "source": []
  }
 ],
 "metadata": {
  "kernelspec": {
   "display_name": "Python 2",
   "language": "python",
   "name": "python2"
  },
  "language_info": {
   "codemirror_mode": {
    "name": "ipython",
    "version": 2
   },
   "file_extension": ".py",
   "mimetype": "text/x-python",
   "name": "python",
   "nbconvert_exporter": "python",
   "pygments_lexer": "ipython2",
   "version": "2.7.6"
  }
 },
 "nbformat": 4,
 "nbformat_minor": 1
}
